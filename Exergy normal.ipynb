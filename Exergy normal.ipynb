{
 "cells": [
  {
   "cell_type": "code",
   "execution_count": 1,
   "id": "5cd868ca",
   "metadata": {},
   "outputs": [],
   "source": [
    "from CoolProp.CoolProp import PropsSI\n",
    "import numpy as np\n",
    "import matplotlib.pyplot as plt"
   ]
  },
  {
   "cell_type": "code",
   "execution_count": 21,
   "id": "0810eb49",
   "metadata": {},
   "outputs": [],
   "source": [
    "def Function(T_evp, ref1, ref2):\n",
    "    Qevp = 10000\n",
    "    Tevp = T_evp + 273.16\n",
    "    Tcond = 45 + 273.16\n",
    "    T_LTC = -15 + 273.16\n",
    "    Tsuperheat = 0\n",
    "    Tsubcool = 0\n",
    "    effcompL = .8\n",
    "\n",
    "    T1 = Tevp + Tsuperheat   #Superheating\n",
    "    # P1 = PropsSI('P', 'T', Tevp, 'Q', 1, ref1)\n",
    "    # H1 = PropsSI('H', 'P', P1, 'T', T1, ref1)\n",
    "    # S1 = PropsSI('S', 'P', P1, 'T', T1, ref1)\n",
    "    P1 = PropsSI('P', 'T', T1, 'Q', 1, ref1)\n",
    "    H1 = PropsSI('H', 'T', T1, 'Q', 1, ref1)\n",
    "    S1 = PropsSI('S', 'T', T1, 'Q', 1, ref1)\n",
    "\n",
    "    T3 = T_LTC\n",
    "    T3sub = T_LTC - Tsubcool       #Subcooling\n",
    "\n",
    "    P3 = PropsSI('P', 'T', T3, 'Q', 0, ref1)\n",
    "    H3 = PropsSI('H', 'T', T3, 'Q', 0, ref1)\n",
    "    S3 = PropsSI('S', 'T', T3, 'Q', 0, ref1)\n",
    "\n",
    "    P3sub = PropsSI('P', 'T', T3sub, 'Q', 0, ref1)\n",
    "    H3sub = PropsSI('H', 'T', T3sub, 'Q', 0, ref1)\n",
    "    S3sub = PropsSI('S', 'T', T3sub, 'Q', 0, ref1)\n",
    "\n",
    "\n",
    "    H4sub = H3sub\n",
    "    T4sub = Tevp\n",
    "    P4sub = P1\n",
    "    S4sub = PropsSI('S', 'P', P4sub, 'H', H4sub, ref1)\n",
    "\n",
    "    P2 = P3\n",
    "    S2s = S1\n",
    "    H2s = PropsSI('H', 'P', P2, 'S', S2s, ref1)\n",
    "    H2 = H1 + ((H2s - H1) / effcompL)\n",
    "    S2 = PropsSI('S', 'P', P2, 'H', H2, ref1)\n",
    "    T2 = PropsSI('T', 'P', P2, 'H', H2, ref1)\n",
    "\n",
    "\n",
    "\n",
    "    Tevp_HTC = T_LTC - 5\n",
    "    T5 = Tevp_HTC + Tsuperheat   #Superheating\n",
    "    P5 = PropsSI('P', 'T', T5, 'Q', 1, ref2)\n",
    "    H5 = PropsSI('H', 'T', T5, 'Q', 1, ref2)\n",
    "    S5 = PropsSI('S', 'T', T5, 'Q', 1, ref2)\n",
    "\n",
    "    T7 = Tcond\n",
    "    T7sub = Tcond - Tsubcool       #Subcooling\n",
    "\n",
    "    P7 = PropsSI('P', 'T', T7, 'Q', 0, ref2)\n",
    "    H7 = PropsSI('H', 'T', T7, 'Q', 0, ref2)\n",
    "    S7 = PropsSI('S', 'T', T7, 'Q', 0, ref2)\n",
    "    P7sub = PropsSI('P', 'T', T7sub, 'Q', 0, ref2)\n",
    "    H7sub = PropsSI('H', 'T', T7sub, 'Q', 0, ref2)\n",
    "    S7sub = PropsSI('S', 'T', T7sub, 'Q', 0, ref2)\n",
    "\n",
    "\n",
    "    H8sub = H7sub\n",
    "    T8sub = Tevp\n",
    "    P8sub = P5\n",
    "    S8sub = PropsSI('S', 'P', P8sub, 'H', H8sub, ref2)\n",
    "\n",
    "    P6 = P7\n",
    "    S6s = S5\n",
    "    H6s = PropsSI('H', 'P', P6, 'S', S6s, ref2)\n",
    "    H6 = H5 + ((H6s - H5) / effcompL)\n",
    "    S6 = PropsSI('S', 'P', P6, 'H', H6, ref2)\n",
    "    T6 = PropsSI('T', 'P', P6, 'H', H6, ref2)\n",
    "\n",
    "    # print(\"Temperature     \", \"Pressure     \", \"Enthalpy     \", \"Entropy\")\n",
    "    # print(T5, \" \", P5, \" \", H5, \" \", S5)\n",
    "    # print(T6, \" \", P6, \" \", H6, \" \", S6)\n",
    "    # print(T7, \" \", P7, \" \", H7, \" \", S7)\n",
    "    # print(T7sub, \" \", P7sub, \" \", H7sub, \" \", S7sub)\n",
    "    # print(T8sub, \" \", P8sub, \" \", H8sub, \" \", S8sub)\n",
    "\n",
    "\n",
    "\n",
    "    #Flow Rates:\n",
    "    #LTC\n",
    "    mLTC = Qevp / (H1 - H4sub)\n",
    "\n",
    "    #HTC\n",
    "    mHTC = (mLTC * (H2 - H3)) / (H5 - H8sub)\n",
    "\n",
    "    #Compressor Work:\n",
    "    #LTC\n",
    "    wLTC = mLTC * (H2 - H1)\n",
    "\n",
    "    #HTC\n",
    "    wHTC = mHTC * (H6 - H5)\n",
    "\n",
    "    #Total Compressor Work\n",
    "    W_total = wLTC + wHTC\n",
    "\n",
    "    #COP\n",
    "    COP = (Qevp / W_total)\n",
    "    COPL = Qevp / wLTC\n",
    "    COPH = (mHTC * (H5 - H8sub)) / (wHTC)\n",
    "    \n",
    "    \n",
    "    #Exergy Analysis\n",
    "    Ta = 25 + 273 #ambient Temperature\n",
    "    X_evp = Ta * ((mLTC * (S1 - S4sub)) - (Qevp/(Tevp + 5)))\n",
    "    X_compl = Ta * mLTC * (S2 - S1)\n",
    "    X_CHX = Ta * ((mLTC * (S3sub - S2)) + (mHTC * (S5 - S8sub)))\n",
    "    X_EV1 = Ta * mLTC * (S4sub - S3sub)\n",
    "#     X_comph = Ta * mHTC * (S6 - S5)\n",
    "    X_comph = Ta * mHTC * (S5 - S6)\n",
    "#     Qcond = mHTC * (H7sub - H6)\n",
    "    Qcond = mHTC * (H6 - H7sub)\n",
    "    X_cond = Ta * ((mHTC * (S7sub - S6)) + (Qcond/Ta))\n",
    "    X_EV2 = Ta * mHTC * (S8sub - S7sub)\n",
    "    X_total = X_compl + X_comph + X_CHX + X_EV1 + X_EV2 + X_evp + X_cond \n",
    "    exergy_eff = (1 - X_total/W_total)\n",
    "\n",
    "    # print(COP, \" \", COPL, \" \", COPH, \" \", W_total)\n",
    "    print(X_compl, \"  \", X_comph, \"  \", X_CHX, \"  \", X_EV1, \"  \", X_EV2, \"  \", X_evp, \"  \", X_cond)\n",
    "\n",
    "    return COP, W_total, X_total, exergy_eff"
   ]
  },
  {
   "cell_type": "code",
   "execution_count": 22,
   "id": "95431845",
   "metadata": {},
   "outputs": [
    {
     "name": "stdout",
     "output_type": "stream",
     "text": [
      "561.5160132510235    -746.7531100806654    632.9927869503365    427.0671841141772    545.3747751488553    306.05169616638256    1888.9365559604992\n",
      "482.0652760926815    -718.0452500168151    527.8818589219508    330.21367504958135    524.4086184419407    292.63778942725315    1816.3190796005451\n",
      "405.3100797587484    -691.8735883148955    443.38101534663184    248.54044507007976    505.29471864925756    280.08684632238817    1750.1170004238695\n",
      "331.2005764534105    -667.9609091243592    376.33290014393134    180.44482059753972    487.8306172472068    268.3263976181564    1689.6290918176614\n",
      "259.70345687940085    -646.072322512064    324.1633680687303    124.51805116825174    471.84476751875076    257.2914248587409    1634.2611919694707\n",
      "190.80563704267198    -626.0088762526192    284.7760312185861    79.52380097651242    457.1918690644359    246.92345964059732    1583.5100446807503\n",
      "124.51932149004443    -607.6027443390393    256.47354224669857    44.37989196453964    443.7493538365522    237.16980741906758    1536.9511285462904\n",
      "60.88877272041487    -590.7136352381835    237.89787231440351    18.143530205045213    431.4147629871767    227.98287654583388    1494.2295715182065\n",
      "0.0    -575.2261455107144    227.9828765455205    8.753900025483552e-12    420.1038141424825    219.31959654330092    1455.0534568005598\n",
      "-57.516289524455516    -560.8952882124087    222.3030407179433    -15.182631954477285    409.6375864545796    215.5779827046357    1418.8030818592363\n",
      "-111.2831566906895    -547.4986434165259    216.9934670129537    -32.21011250157436    399.8536404024307    220.94933769009336    1384.9158281731711\n",
      "-161.52774683444784    -534.9796152018168    212.03172442489637    -51.36989325718859    390.7106423947738    235.22935496078009    1353.248534497877\n",
      "-208.43528472433206    -523.2920526474059    207.39952167863126    -73.05342496440768    382.17488711755567    258.45596854941886    1323.6844605608849\n",
      "-252.14013703587983    -512.4024767220667    203.08358982609735    -97.83042354407056    374.221923893731    291.02192342260366    1296.138920051441\n",
      "-292.7028507464851    -502.2958014371193    199.07794974565678    -126.61045176820345    366.84073500194955    333.93049640259164    1270.5737524649323\n",
      "-330.0459816356071    -492.99132292731576    195.39024919175023    -161.06613306508825    360.04541295151535    389.47745810139577    1247.0377680089498\n",
      "-363.72780349453114    -484.59910245207254    192.06410941267276    -205.16677461761287    353.9163385721787    463.69171724675493    1225.8093702595836\n",
      "-390.9273376775535    -477.82201988676724    189.37810706406177    -279.1542884521553    348.96684478323505    588.3728007462308    1208.6665169824369\n"
     ]
    }
   ],
   "source": [
    "# T_LTC = [-30, -25, -20, -15, -10, -5, 0, 5, 10, 15, 20, 25]\n",
    "T_evp = [-55, -50, -45, -40, -35, -30, -25, -20, -15, -10, -5, 0, 5, 10, 15, 20, 25, 30]\n",
    "\n",
    "COP = []\n",
    "X_total = []\n",
    "Exergy_eff = []\n",
    "W_total = []\n",
    "\n",
    "for i in T_evp:\n",
    "    a, b, c, d= Function(i, \"R744\", \"R717\")\n",
    "    COP.append(a)\n",
    "    W_total.append(b)\n",
    "    X_total.append(c)\n",
    "    Exergy_eff.append(d)"
   ]
  },
  {
   "cell_type": "code",
   "execution_count": 23,
   "id": "f5a87624",
   "metadata": {},
   "outputs": [
    {
     "data": {
      "text/plain": [
       "[1.1817062798840765,\n",
       " 1.289892943898552,\n",
       " 1.4073552139245755,\n",
       " 1.5350791953286862,\n",
       " 1.6741557984261692,\n",
       " 1.8257765813251683,\n",
       " 1.9912156836507093,\n",
       " 2.17178845516384,\n",
       " 2.3687727727251198,\n",
       " 2.585792352872246,\n",
       " 2.8279944750269546,\n",
       " 3.099275252579801,\n",
       " 3.4041353734675157,\n",
       " 3.7475988704253718,\n",
       " 4.134789181812834,\n",
       " 4.569415208400804,\n",
       " 5.048009323639374,\n",
       " 5.51442467022196]"
      ]
     },
     "execution_count": 23,
     "metadata": {},
     "output_type": "execute_result"
    }
   ],
   "source": [
    "COP"
   ]
  },
  {
   "cell_type": "code",
   "execution_count": 24,
   "id": "a1d818e5",
   "metadata": {},
   "outputs": [
    {
     "data": {
      "text/plain": [
       "[8462.33972876998,\n",
       " 7752.581365222573,\n",
       " 7105.52666523601,\n",
       " 6514.32188673421,\n",
       " 5973.159731848578,\n",
       " 5477.121408108922,\n",
       " 5022.0576716561045,\n",
       " 4604.5000267973155,\n",
       " 4221.595298267316,\n",
       " 3867.2865548899163,\n",
       " 3536.074800819647,\n",
       " 3226.5607876151416,\n",
       " 2937.6035036508592,\n",
       " 2668.3752305819617,\n",
       " 2418.5029901852595,\n",
       " 2188.4638501695235,\n",
       " 1980.9789084918878,\n",
       " 1813.4258055967773]"
      ]
     },
     "execution_count": 24,
     "metadata": {},
     "output_type": "execute_result"
    }
   ],
   "source": [
    "W_total"
   ]
  },
  {
   "cell_type": "code",
   "execution_count": 25,
   "id": "1e005702",
   "metadata": {},
   "outputs": [
    {
     "data": {
      "text/plain": [
       "[0.5727912117236535,\n",
       " 0.5800777967812178,\n",
       " 0.5861170247035589,\n",
       " 0.5907780516369325,\n",
       " 0.5938983642078879,\n",
       " 0.5952760946490869,\n",
       " 0.5946601106050484,\n",
       " 0.5917377043951431,\n",
       " 0.5861200624232548,\n",
       " 0.5778105762603543,\n",
       " 0.5668303282739344,\n",
       " 0.5526682756063317,\n",
       " 0.534677136015287,\n",
       " 0.5120276545184859,\n",
       " 0.48364180870098405,\n",
       " 0.4480843489683244,\n",
       " 0.4033314287900135,\n",
       " 0.34517275540330017]"
      ]
     },
     "execution_count": 25,
     "metadata": {},
     "output_type": "execute_result"
    }
   ],
   "source": [
    "Exergy_eff"
   ]
  },
  {
   "cell_type": "code",
   "execution_count": 26,
   "id": "ff07a87d",
   "metadata": {},
   "outputs": [
    {
     "name": "stdout",
     "output_type": "stream",
     "text": [
      "3615.19\n",
      "3255.48\n",
      "2940.86\n",
      "2665.80\n",
      "2425.71\n",
      "2216.72\n",
      "2035.64\n",
      "1879.84\n",
      "1747.23\n",
      "1632.73\n",
      "1531.72\n",
      "1443.34\n",
      "1366.93\n",
      "1302.09\n",
      "1248.81\n",
      "1207.85\n",
      "1181.99\n",
      "1187.48\n"
     ]
    }
   ],
   "source": [
    "for i in X_total:\n",
    "    print(\"%.2f\"%(i))"
   ]
  },
  {
   "cell_type": "code",
   "execution_count": 27,
   "id": "ddbe0781",
   "metadata": {},
   "outputs": [
    {
     "data": {
      "text/plain": [
       "[<matplotlib.lines.Line2D at 0x1957a2278d0>]"
      ]
     },
     "execution_count": 27,
     "metadata": {},
     "output_type": "execute_result"
    },
    {
     "data": {
      "image/png": "[encoded data removed]",
      "text/plain": [
       "<Figure size 640x480 with 1 Axes>"
      ]
     },
     "metadata": {},
     "output_type": "display_data"
    }
   ],
   "source": [
    "plt.plot(T_evp, Exergy_eff)"
   ]
  },
  {
   "cell_type": "code",
   "execution_count": null,
   "id": "0af0917d",
   "metadata": {},
   "outputs": [],
   "source": []
  },
  {
   "cell_type": "code",
   "execution_count": null,
   "id": "fd73ef6d",
   "metadata": {},
   "outputs": [],
   "source": []
  }
 ],
 "metadata": {
  "kernelspec": {
   "display_name": "Python 3 (ipykernel)",
   "language": "python",
   "name": "python3"
  },
  "language_info": {
   "codemirror_mode": {
    "name": "ipython",
    "version": 3
   },
   "file_extension": ".py",
   "mimetype": "text/x-python",
   "name": "python",
   "nbconvert_exporter": "python",
   "pygments_lexer": "ipython3",
   "version": "3.11.3"
  }
 },
 "nbformat": 4,
 "nbformat_minor": 5
}
