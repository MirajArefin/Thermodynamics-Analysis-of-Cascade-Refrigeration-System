{
 "cells": [
  {
   "cell_type": "code",
   "execution_count": 1,
   "id": "5cd868ca",
   "metadata": {},
   "outputs": [],
   "source": [
    "from CoolProp.CoolProp import PropsSI\n",
    "import numpy as np\n",
    "import matplotlib.pyplot as plt"
   ]
  },
  {
   "cell_type": "code",
   "execution_count": 2,
   "id": "0810eb49",
   "metadata": {},
   "outputs": [],
   "source": [
    "def Function(T_evp, ref1, ref2):\n",
    "    Qevp = 10000\n",
    "    Tevp = T_evp + 273.16\n",
    "    Tcond = 45 + 273.16\n",
    "    T_LTC = -5 + 273.16\n",
    "    Tsuperheat = 10\n",
    "    Tsubcool = 10\n",
    "    effcompL = .8\n",
    "\n",
    "    T1 = Tevp + Tsuperheat   #Superheating\n",
    "    P1 = PropsSI('P', 'T', Tevp, 'Q', 1, ref1)\n",
    "    H1 = PropsSI('H', 'P', P1, 'T', T1, ref1)\n",
    "    S1 = PropsSI('S', 'P', P1, 'T', T1, ref1)\n",
    "\n",
    "    T3 = T_LTC\n",
    "    T3sub = T_LTC - Tsubcool       #Subcooling\n",
    "\n",
    "    P3 = PropsSI('P', 'T', T3, 'Q', 0, ref1)\n",
    "    H3 = PropsSI('H', 'T', T3, 'Q', 0, ref1)\n",
    "    S3 = PropsSI('S', 'T', T3, 'Q', 0, ref1)\n",
    "\n",
    "    P3sub = PropsSI('P', 'T', T3sub, 'Q', 0, ref1)\n",
    "    H3sub = PropsSI('H', 'T', T3sub, 'Q', 0, ref1)\n",
    "    S3sub = PropsSI('S', 'T', T3sub, 'Q', 0, ref1)\n",
    "\n",
    "\n",
    "    H4sub = H3sub\n",
    "    T4sub = Tevp\n",
    "    P4sub = P1\n",
    "    S4sub = PropsSI('S', 'P', P4sub, 'H', H4sub, ref1)\n",
    "\n",
    "    P2 = P3\n",
    "    S2s = S1\n",
    "    H2s = PropsSI('H', 'P', P2, 'S', S2s, ref1)\n",
    "    H2 = H1 + ((H2s - H1) / effcompL)\n",
    "    S2 = PropsSI('S', 'P', P2, 'H', H2, ref1)\n",
    "    T2 = PropsSI('T', 'P', P2, 'H', H2, ref1)\n",
    "\n",
    "\n",
    "\n",
    "    Tevp_HTC = T_LTC - 5\n",
    "    T5 = Tevp_HTC + Tsuperheat   #Superheating    \n",
    "    P5 = PropsSI('P', 'T', Tevp_HTC, 'Q', 1, ref2)\n",
    "    H5 = PropsSI('H', 'P', P5, 'T', T5, ref2)\n",
    "    S5 = PropsSI('S', 'P', P5, 'T', T5, ref2)\n",
    "\n",
    "    T7 = Tcond\n",
    "    T7sub = Tcond - Tsubcool       #Subcooling\n",
    "\n",
    "    P7 = PropsSI('P', 'T', T7, 'Q', 0, ref2)\n",
    "    H7 = PropsSI('H', 'T', T7, 'Q', 0, ref2)\n",
    "    S7 = PropsSI('S', 'T', T7, 'Q', 0, ref2)\n",
    "    P7sub = PropsSI('P', 'T', T7sub, 'Q', 0, ref2)\n",
    "    H7sub = PropsSI('H', 'T', T7sub, 'Q', 0, ref2)\n",
    "    S7sub = PropsSI('S', 'T', T7sub, 'Q', 0, ref2)\n",
    "\n",
    "\n",
    "    H8sub = H7sub\n",
    "    T8sub = Tevp\n",
    "    P8sub = P5\n",
    "    S8sub = PropsSI('S', 'P', P8sub, 'H', H8sub, ref2)\n",
    "\n",
    "    P6 = P7\n",
    "    S6s = S5\n",
    "    H6s = PropsSI('H', 'P', P6, 'S', S6s, ref2)\n",
    "    H6 = H5 + ((H6s - H5) / effcompL)\n",
    "    S6 = PropsSI('S', 'P', P6, 'H', H6, ref2)\n",
    "    T6 = PropsSI('T', 'P', P6, 'H', H6, ref2)\n",
    "\n",
    "    # print(\"Temperature     \", \"Pressure     \", \"Enthalpy     \", \"Entropy\")\n",
    "    # print(T5, \" \", P5, \" \", H5, \" \", S5)\n",
    "    # print(T6, \" \", P6, \" \", H6, \" \", S6)\n",
    "    # print(T7, \" \", P7, \" \", H7, \" \", S7)\n",
    "    # print(T7sub, \" \", P7sub, \" \", H7sub, \" \", S7sub)\n",
    "    # print(T8sub, \" \", P8sub, \" \", H8sub, \" \", S8sub)\n",
    "\n",
    "\n",
    "\n",
    "    #Flow Rates:\n",
    "    #LTC\n",
    "    mLTC = Qevp / (H1 - H4sub)\n",
    "\n",
    "    #HTC\n",
    "    mHTC = (mLTC * (H2 - H3)) / (H5 - H8sub)\n",
    "\n",
    "    #Compressor Work:\n",
    "    #LTC\n",
    "    wLTC = mLTC * (H2 - H1)\n",
    "\n",
    "    #HTC\n",
    "    wHTC = mHTC * (H6 - H5)\n",
    "\n",
    "    #Total Compressor Work\n",
    "    W_total = wLTC + wHTC\n",
    "\n",
    "    #COP\n",
    "    COP = (Qevp / W_total)\n",
    "    COPL = Qevp / wLTC\n",
    "    COPH = (mHTC * (H5 - H8sub)) / (wHTC)\n",
    "    \n",
    "    \n",
    "    #Exergy Analysis\n",
    "    Ta = 25 + 273 #ambient Temperature\n",
    "    X_evp = Ta * ((mLTC * (S1 - S4sub)) - (Qevp/(Tevp + 5)))\n",
    "    X_compl = Ta * mLTC * (S2 - S1)\n",
    "    X_CHX = Ta * ((mLTC * (S3sub - S2)) + (mHTC * (S5 - S8sub)))\n",
    "    X_EV1 = Ta * mLTC * (S4sub - S3sub)\n",
    "#     X_comph = Ta * mHTC * (S6 - S5)\n",
    "    X_comph = Ta * mHTC * (S5 - S6)\n",
    "#     Qcond = mHTC * (H7sub - H6)\n",
    "    Qcond = mHTC * (H6 - H7sub)\n",
    "    X_cond = Ta * ((mHTC * (S7sub - S6)) + (Qcond/Ta))\n",
    "    X_EV2 = Ta * mHTC * (S8sub - S7sub)\n",
    "    X_total = X_compl + X_comph + X_CHX + X_EV1 + X_EV2 + X_evp + X_cond \n",
    "    exergy_eff = (1 - X_total/W_total)\n",
    "\n",
    "    # print(COP, \" \", COPL, \" \", COPH, \" \", W_total)\n",
    "\n",
    "    return COP, W_total, X_total, exergy_eff"
   ]
  },
  {
   "cell_type": "code",
   "execution_count": 3,
   "id": "95431845",
   "metadata": {},
   "outputs": [],
   "source": [
    "# T_LTC = [-30, -25, -20, -15, -10, -5, 0, 5, 10, 15, 20, 25]\n",
    "T_evp = [-55, -50, -45, -40, -35, -30, -25, -20, -15, -10, -5, 0, 5, 10, 15, 20, 25, 30]\n",
    "\n",
    "COP = []\n",
    "X_total = []\n",
    "Exergy_eff = []\n",
    "W_total = []\n",
    "\n",
    "for i in T_evp:\n",
    "    a, b, c, d= Function(i, \"R744\", \"R1234ze(E)\")\n",
    "    COP.append(a)\n",
    "    W_total.append(b)\n",
    "    X_total.append(c)\n",
    "    Exergy_eff.append(d)"
   ]
  },
  {
   "cell_type": "code",
   "execution_count": 4,
   "id": "f5a87624",
   "metadata": {},
   "outputs": [
    {
     "data": {
      "text/plain": [
       "[1.2675630930113684,\n",
       " 1.393097993005337,\n",
       " 1.531577459791845,\n",
       " 1.684886803306327,\n",
       " 1.8552802018089574,\n",
       " 2.0454666048543584,\n",
       " 2.258718366276292,\n",
       " 2.499009195897331,\n",
       " 2.7711892820790567,\n",
       " 3.08120620644014,\n",
       " 3.4363793185543745,\n",
       " 3.8457317051674957,\n",
       " 4.320377800270569,\n",
       " 4.876741263643115,\n",
       " 5.546557233541113,\n",
       " 6.368173767769565,\n",
       " 7.398850869522623,\n",
       " 8.734228821464574]"
      ]
     },
     "execution_count": 4,
     "metadata": {},
     "output_type": "execute_result"
    }
   ],
   "source": [
    "COP"
   ]
  },
  {
   "cell_type": "code",
   "execution_count": 5,
   "id": "a1d818e5",
   "metadata": {},
   "outputs": [
    {
     "data": {
      "text/plain": [
       "[7889.15364855161,\n",
       " 7178.245931161635,\n",
       " 6529.215963624255,\n",
       " 5935.1168163799275,\n",
       " 5390.021404987603,\n",
       " 4888.860065604455,\n",
       " 4427.2894528616835,\n",
       " 4001.5859150967444,\n",
       " 3608.558991141017,\n",
       " 3245.482233256132,\n",
       " 2910.0396297946604,\n",
       " 2600.2853986311725,\n",
       " 2314.6123932434193,\n",
       " 2050.5496312776722,\n",
       " 1802.9201861522406,\n",
       " 1570.3089087505336,\n",
       " 1351.5612324600352,\n",
       " 1144.9207714165632]"
      ]
     },
     "execution_count": 5,
     "metadata": {},
     "output_type": "execute_result"
    }
   ],
   "source": [
    "W_total"
   ]
  },
  {
   "cell_type": "code",
   "execution_count": 6,
   "id": "1e005702",
   "metadata": {},
   "outputs": [
    {
     "data": {
      "text/plain": [
       "[0.7177235118326198,\n",
       " 0.7386783617994587,\n",
       " 0.7598362781598805,\n",
       " 0.7812856714090993,\n",
       " 0.8031254990823038,\n",
       " 0.8254663121011987,\n",
       " 0.8484313577390654,\n",
       " 0.8721577760369573,\n",
       " 0.8967975939463815,\n",
       " 0.9225178897355286,\n",
       " 0.949499006780362,\n",
       " 0.9779290717150543,\n",
       " 1.0079929362950444,\n",
       " 1.0403993832547582,\n",
       " 1.077830242541081,\n",
       " 1.1224683909636892,\n",
       " 1.1776468019403645,\n",
       " 1.2496550302727933]"
      ]
     },
     "execution_count": 6,
     "metadata": {},
     "output_type": "execute_result"
    }
   ],
   "source": [
    "Exergy_eff"
   ]
  },
  {
   "cell_type": "code",
   "execution_count": 7,
   "id": "ff07a87d",
   "metadata": {},
   "outputs": [
    {
     "name": "stdout",
     "output_type": "stream",
     "text": [
      "2226.92\n",
      "1875.83\n",
      "1568.08\n",
      "1298.10\n",
      "1061.16\n",
      "853.27\n",
      "671.04\n",
      "511.57\n",
      "372.41\n",
      "251.47\n",
      "146.96\n",
      "57.39\n",
      "-18.50\n",
      "-82.84\n",
      "-140.32\n",
      "-192.31\n",
      "-240.10\n",
      "-285.84\n"
     ]
    }
   ],
   "source": [
    "for i in X_total:\n",
    "    print(\"%.2f\"%(i))"
   ]
  },
  {
   "cell_type": "code",
   "execution_count": 8,
   "id": "ddbe0781",
   "metadata": {},
   "outputs": [
    {
     "data": {
      "text/plain": [
       "[<matplotlib.lines.Line2D at 0x226f2f50c10>]"
      ]
     },
     "execution_count": 8,
     "metadata": {},
     "output_type": "execute_result"
    },
    {
     "data": {
      "image/png": "[encoded data removed]",
      "text/plain": [
       "<Figure size 640x480 with 1 Axes>"
      ]
     },
     "metadata": {},
     "output_type": "display_data"
    }
   ],
   "source": [
    "plt.plot(T_evp, Exergy_eff)"
   ]
  },
  {
   "cell_type": "code",
   "execution_count": null,
   "id": "0af0917d",
   "metadata": {},
   "outputs": [],
   "source": []
  },
  {
   "cell_type": "code",
   "execution_count": null,
   "id": "fd73ef6d",
   "metadata": {},
   "outputs": [],
   "source": []
  }
 ],
 "metadata": {
  "kernelspec": {
   "display_name": "Python 3 (ipykernel)",
   "language": "python",
   "name": "python3"
  },
  "language_info": {
   "codemirror_mode": {
    "name": "ipython",
    "version": 3
   },
   "file_extension": ".py",
   "mimetype": "text/x-python",
   "name": "python",
   "nbconvert_exporter": "python",
   "pygments_lexer": "ipython3",
   "version": "3.11.3"
  }
 },
 "nbformat": 4,
 "nbformat_minor": 5
}
